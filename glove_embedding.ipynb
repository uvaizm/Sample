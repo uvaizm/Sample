{
  "nbformat": 4,
  "nbformat_minor": 0,
  "metadata": {
    "colab": {
      "name": "Untitled1.ipynb",
      "version": "0.3.2",
      "provenance": [],
      "collapsed_sections": [],
      "toc_visible": true,
      "include_colab_link": true
    },
    "kernelspec": {
      "name": "python3",
      "display_name": "Python 3"
    }
  },
  "cells": [
    {
      "cell_type": "markdown",
      "metadata": {
        "id": "view-in-github",
        "colab_type": "text"
      },
      "source": [
        "[View in Colaboratory](https://colab.research.google.com/github/uvaizm/Sample/blob/master/glove_embedding.ipynb)"
      ]
    },
    {
      "metadata": {
        "id": "-k9kthokKTOm",
        "colab_type": "code",
        "colab": {
          "base_uri": "https://localhost:8080/",
          "height": 207
        },
        "outputId": "6e264d1e-a336-49a3-cf0d-7f5141774154"
      },
      "cell_type": "code",
      "source": [
        "import pandas as pd\n",
        "\n",
        "file=\"glove.6B.50d.txt\"\n",
        "\n",
        "df=pd.read_csv(file,sep=\" \",quoting=3, header=None, index_col=0)\n",
        "glove = {key: val.values for key, val in df.T.items()}\n",
        "\n",
        "words=glove.keys()\n",
        "\n",
        "print(words[0])"
      ],
      "execution_count": 2,
      "outputs": [
        {
          "output_type": "error",
          "ename": "TypeError",
          "evalue": "ignored",
          "traceback": [
            "\u001b[0;31m---------------------------------------------------------------------------\u001b[0m",
            "\u001b[0;31mTypeError\u001b[0m                                 Traceback (most recent call last)",
            "\u001b[0;32m<ipython-input-2-0e1922c2532d>\u001b[0m in \u001b[0;36m<module>\u001b[0;34m()\u001b[0m\n\u001b[1;32m      8\u001b[0m \u001b[0mwords\u001b[0m\u001b[0;34m=\u001b[0m\u001b[0mglove\u001b[0m\u001b[0;34m.\u001b[0m\u001b[0mkeys\u001b[0m\u001b[0;34m(\u001b[0m\u001b[0;34m)\u001b[0m\u001b[0;34m\u001b[0m\u001b[0m\n\u001b[1;32m      9\u001b[0m \u001b[0;34m\u001b[0m\u001b[0m\n\u001b[0;32m---> 10\u001b[0;31m \u001b[0mprint\u001b[0m\u001b[0;34m(\u001b[0m\u001b[0mwords\u001b[0m\u001b[0;34m[\u001b[0m\u001b[0;36m0\u001b[0m\u001b[0;34m]\u001b[0m\u001b[0;34m)\u001b[0m\u001b[0;34m\u001b[0m\u001b[0m\n\u001b[0m",
            "\u001b[0;31mTypeError\u001b[0m: 'dict_keys' object does not support indexing"
          ]
        }
      ]
    },
    {
      "metadata": {
        "id": "GKpcp8n04XgQ",
        "colab_type": "code",
        "colab": {}
      },
      "cell_type": "code",
      "source": [
        "words=list(glove.keys())\n"
      ],
      "execution_count": 0,
      "outputs": []
    },
    {
      "metadata": {
        "id": "GPze5bRU4boo",
        "colab_type": "code",
        "colab": {
          "base_uri": "https://localhost:8080/",
          "height": 1001
        },
        "outputId": "c94f9ea5-cc1d-467c-d6bf-06ae27056f4b"
      },
      "cell_type": "code",
      "source": [
        "print(words[117])\n",
        "import numpy as np\n",
        "from collections import OrderedDict\n",
        "import tensorflow as tf\n",
        "emb=list(glove.values())\n",
        "emb=np.array(emb)\n",
        "print(emb[117])\n",
        "print(glove[\"like\"])\n",
        "\n",
        "input_str = \"like the country\"\n",
        "word_to_idx = OrderedDict({w:words.index(w) for w in input_str.split() if w in words})\n",
        "print(word_to_idx)\n",
        "tf.InteractiveSession()\n",
        "tf_embedding = tf.constant(emb, dtype=tf.float32)\n",
        "tf.nn.embedding_lookup(tf_embedding, list(word_to_idx.values())).eval()"
      ],
      "execution_count": 25,
      "outputs": [
        {
          "output_type": "stream",
          "text": [
            "like\n",
            "[ 3.6808e-01  2.0834e-01 -2.2319e-01  4.6283e-02  2.0098e-01  2.7515e-01\n",
            " -7.7127e-01 -7.6804e-01 -3.4861e-01  5.0620e-01 -2.4401e-01  7.1775e-01\n",
            " -3.3348e-01  3.7554e-01  4.4756e-01  3.6698e-01  4.3533e-01  4.7570e-01\n",
            " -5.6113e-02 -9.3531e-01 -2.7591e-01  3.1610e-01  2.2116e-01  3.6304e-01\n",
            "  1.0757e-01 -1.7638e+00 -1.2624e+00  3.0284e-01  5.6286e-01 -1.0214e+00\n",
            "  3.2353e+00  4.8483e-01  2.7953e-02  3.6082e-02 -7.8554e-02  1.8761e-01\n",
            " -5.2573e-01  3.7200e-02  2.7579e-01 -7.7360e-02 -2.7955e-01  7.9752e-01\n",
            "  1.6028e-03  4.5479e-01  8.8382e-01  4.3893e-01 -1.9263e-01 -6.7236e-01\n",
            " -3.9709e-01  2.5183e-01]\n",
            "[ 3.6808e-01  2.0834e-01 -2.2319e-01  4.6283e-02  2.0098e-01  2.7515e-01\n",
            " -7.7127e-01 -7.6804e-01 -3.4861e-01  5.0620e-01 -2.4401e-01  7.1775e-01\n",
            " -3.3348e-01  3.7554e-01  4.4756e-01  3.6698e-01  4.3533e-01  4.7570e-01\n",
            " -5.6113e-02 -9.3531e-01 -2.7591e-01  3.1610e-01  2.2116e-01  3.6304e-01\n",
            "  1.0757e-01 -1.7638e+00 -1.2624e+00  3.0284e-01  5.6286e-01 -1.0214e+00\n",
            "  3.2353e+00  4.8483e-01  2.7953e-02  3.6082e-02 -7.8554e-02  1.8761e-01\n",
            " -5.2573e-01  3.7200e-02  2.7579e-01 -7.7360e-02 -2.7955e-01  7.9752e-01\n",
            "  1.6028e-03  4.5479e-01  8.8382e-01  4.3893e-01 -1.9263e-01 -6.7236e-01\n",
            " -3.9709e-01  2.5183e-01]\n",
            "OrderedDict([('like', 117), ('the', 0), ('country', 123)])\n"
          ],
          "name": "stdout"
        },
        {
          "output_type": "stream",
          "text": [
            "/usr/local/lib/python3.6/dist-packages/tensorflow/python/client/session.py:1702: UserWarning: An interactive session is already active. This can cause out-of-memory errors in some cases. You must explicitly call `InteractiveSession.close()` to release resources held by the other session(s).\n",
            "  warnings.warn('An interactive session is already active. This can '\n"
          ],
          "name": "stderr"
        },
        {
          "output_type": "execute_result",
          "data": {
            "text/plain": [
              "array([[ 3.6808e-01,  2.0834e-01, -2.2319e-01,  4.6283e-02,  2.0098e-01,\n",
              "         2.7515e-01, -7.7127e-01, -7.6804e-01, -3.4861e-01,  5.0620e-01,\n",
              "        -2.4401e-01,  7.1775e-01, -3.3348e-01,  3.7554e-01,  4.4756e-01,\n",
              "         3.6698e-01,  4.3533e-01,  4.7570e-01, -5.6113e-02, -9.3531e-01,\n",
              "        -2.7591e-01,  3.1610e-01,  2.2116e-01,  3.6304e-01,  1.0757e-01,\n",
              "        -1.7638e+00, -1.2624e+00,  3.0284e-01,  5.6286e-01, -1.0214e+00,\n",
              "         3.2353e+00,  4.8483e-01,  2.7953e-02,  3.6082e-02, -7.8554e-02,\n",
              "         1.8761e-01, -5.2573e-01,  3.7200e-02,  2.7579e-01, -7.7360e-02,\n",
              "        -2.7955e-01,  7.9752e-01,  1.6028e-03,  4.5479e-01,  8.8382e-01,\n",
              "         4.3893e-01, -1.9263e-01, -6.7236e-01, -3.9709e-01,  2.5183e-01],\n",
              "       [ 4.1800e-01,  2.4968e-01, -4.1242e-01,  1.2170e-01,  3.4527e-01,\n",
              "        -4.4457e-02, -4.9688e-01, -1.7862e-01, -6.6023e-04, -6.5660e-01,\n",
              "         2.7843e-01, -1.4767e-01, -5.5677e-01,  1.4658e-01, -9.5095e-03,\n",
              "         1.1658e-02,  1.0204e-01, -1.2792e-01, -8.4430e-01, -1.2181e-01,\n",
              "        -1.6801e-02, -3.3279e-01, -1.5520e-01, -2.3131e-01, -1.9181e-01,\n",
              "        -1.8823e+00, -7.6746e-01,  9.9051e-02, -4.2125e-01, -1.9526e-01,\n",
              "         4.0071e+00, -1.8594e-01, -5.2287e-01, -3.1681e-01,  5.9213e-04,\n",
              "         7.4449e-03,  1.7778e-01, -1.5897e-01,  1.2041e-02, -5.4223e-02,\n",
              "        -2.9871e-01, -1.5749e-01, -3.4758e-01, -4.5637e-02, -4.4251e-01,\n",
              "         1.8785e-01,  2.7849e-03, -1.8411e-01, -1.1514e-01, -7.8581e-01],\n",
              "       [-1.3531e-01,  1.5485e-01, -7.3090e-02,  3.4013e-02, -5.4457e-02,\n",
              "        -2.0541e-01, -6.0086e-01, -2.2407e-01,  4.2615e-01,  4.1800e-02,\n",
              "         1.2170e-01, -5.5817e-01, -8.9530e-02,  8.9426e-03,  5.9164e-01,\n",
              "         3.4329e-01,  6.4798e-01,  3.0052e-01,  4.8494e-01,  1.6524e-01,\n",
              "        -7.3664e-02,  3.1182e-01, -8.3803e-02,  2.7026e-01,  1.0724e-01,\n",
              "        -1.7704e+00, -3.6235e-01, -1.5811e-01,  6.0038e-02,  6.7873e-01,\n",
              "         4.0124e+00,  4.3091e-01, -2.6325e-01,  5.6100e-02, -4.0052e-01,\n",
              "        -8.8487e-02, -5.5339e-01, -1.7892e-01, -5.7372e-01, -1.9628e-01,\n",
              "        -1.1624e+00,  1.2145e-01,  5.5842e-01, -6.1940e-01, -2.0974e-01,\n",
              "         4.9895e-01, -1.0743e+00, -2.8168e-02, -1.8904e-01, -6.7690e-01]],\n",
              "      dtype=float32)"
            ]
          },
          "metadata": {
            "tags": []
          },
          "execution_count": 25
        }
      ]
    },
    {
      "metadata": {
        "id": "AUNLBRwM-MLt",
        "colab_type": "code",
        "colab": {}
      },
      "cell_type": "code",
      "source": [
        "import tensorflow as tf\n",
        "import numpy as np\n",
        "from collections import OrderedDict\n",
        "import pandas as pd\n",
        "\n",
        "file=\"glove.6B.50d.txt\"\n",
        "\n",
        "df=pd.read_csv(file,sep=\" \",quoting=3, header=None, index_col=0)\n",
        "glove = {key: val.values for key, val in df.T.items()}\n",
        "\n",
        "words=list(glove.keys())\n",
        "emb=np.array(list(glove.values()))\n",
        "\n",
        "input_str = \"like the country\"\n",
        "word_to_idx = OrderedDict({w:words.index(w) for w in input_str.split() if w in words})\n",
        "\n",
        "tf.InteractiveSession()\n",
        "tf_embedding = tf.constant(emb, dtype=tf.float32)\n",
        "tf.nn.embedding_lookup(tf_embedding, list(word_to_idx.values())).eval()\n",
        "\n"
      ],
      "execution_count": 0,
      "outputs": []
    },
    {
      "metadata": {
        "id": "2yIWjcqbKwud",
        "colab_type": "text"
      },
      "cell_type": "markdown",
      "source": [
        "# New Section"
      ]
    }
  ]
}